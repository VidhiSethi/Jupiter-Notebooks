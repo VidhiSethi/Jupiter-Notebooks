{
 "cells": [
  {
   "cell_type": "code",
   "execution_count": null,
   "metadata": {},
   "outputs": [],
   "source": [
    "#import Libraries\n",
    "import numpy as np \n",
    "import pandas as pd # data processing, CSV file I/O (e.g. pd.read_csv)\n",
    "import matplotlib.pyplot as plt\n",
    "from sklearn.model_selection import train_test_split\n",
    "from sklearn.linear_model import LinearRegression\n",
    "import math\n",
    "from sklearn.metrics import mean_absolute_error\n",
    "from sklearn.metrics import mean_squared_error"
   ]
  },
  {
   "cell_type": "code",
   "execution_count": null,
   "metadata": {},
   "outputs": [],
   "source": [
    "#Load Data\n",
    "d=pd.read_csv('C:/Users/GIRISH SETHI/Downloads/gender_development.csv')\n",
    "print(f\"Data Shape: {d.shape}\")"
   ]
  },
  {
   "cell_type": "code",
   "execution_count": null,
   "metadata": {},
   "outputs": [],
   "source": [
    "#Selecting Desired Features\n",
    "#By setting errors=’coerce’, you’ll transform the non-numeric values into NaN.\n",
    "d['Human Development Index (Male)'] = pd.to_numeric(d['Human Development Index (Male)'], errors='coerce')\n",
    "d['Estimated Gross National Income per Capita (Male)'] = \n",
    "pd.to_numeric(d['Estimated Gross National Income per Capita (Male)'], errors='coerce')\n",
    "\n",
    "#To drop all the rows with the NaN values, you may use df.dropna().\n",
    "d= d.dropna(how='any')  \n",
    "d = d.reset_index(drop=True)\n",
    "\n",
    "x = d['Human Development Index (Male)'].values\n",
    "y = d['Estimated Gross National Income per Capita (Male)'].values\n",
    "\n",
    "x = x.reshape(-1,1)\n",
    "y = y.reshape(-1,1)\n",
    "\n",
    "d.head()\n",
    "#print (d.dtypes)"
   ]
  },
  {
   "cell_type": "code",
   "execution_count": null,
   "metadata": {},
   "outputs": [],
   "source": [
    "#Exploring data by ploting\n",
    "%matplotlib inline\n",
    "plt.scatter(x,y,color='red')\n",
    "plt.xlabel('Human Development Index (Male)')\n",
    "plt.ylabel('Estimated Gross National Income per Capita (Male)')\n",
    "plt.title('Investigating Data')\n",
    "plt.show()"
   ]
  },
  {
   "cell_type": "code",
   "execution_count": null,
   "metadata": {},
   "outputs": [],
   "source": [
    "#Divide data into train and test set\n",
    "#The most common train and test split size is 80% data for train set and 20 % data for test set\n",
    "x_train,x_test,y_train,y_test=train_test_split(x,y,test_size=.20,random_state=100)\n",
    "print(f\"x_train shape {x_train.shape}\")\n",
    "print(f\"y_train shape {y_train.shape}\")\n",
    "print(f\"x_test shape {x_test.shape}\")\n",
    "print(f\"y_test shape {y_test.shape}\")"
   ]
  },
  {
   "cell_type": "code",
   "execution_count": null,
   "metadata": {},
   "outputs": [],
   "source": [
    "#Building Linear Regression Model using Sklearn\n",
    "lr=LinearRegression()\n",
    "lr.fit(x_train,y_train)\n",
    "print(f\"Train accuracy {round(lr.score(x_train,y_train)*100,2)} %\")\n",
    "print(f\"Test accuracy {round(lr.score(x_test,y_test)*100,2)} %\")"
   ]
  },
  {
   "cell_type": "code",
   "execution_count": null,
   "metadata": {},
   "outputs": [],
   "source": [
    "print('Coeff of determination:',lr.score(x,y))\n",
    "print('correlation is:',math.sqrt(lr.score(x,y)))\n",
    "#Higher values denote a strong association and strong dependency."
   ]
  },
  {
   "cell_type": "code",
   "execution_count": null,
   "metadata": {},
   "outputs": [],
   "source": [
    "#Plotting the Linear Model\n",
    "plt.scatter(x_train,y_train,color=\"red\")\n",
    "plt.plot(x_train,lr.predict(x_train),color=\"blue\")\n",
    "plt.title(\"Training set\")\n",
    "plt.xlabel(\"Human Development Index (Male)\")\n",
    "plt.ylabel(\"Estimated Gross National Income per Capita (Male)\")\n",
    "plt.show()\n"
   ]
  },
  {
   "cell_type": "code",
   "execution_count": null,
   "metadata": {},
   "outputs": [],
   "source": [
    "plt.scatter(x_test,y_test,color=\"red\")\n",
    "plt.plot(x_test,lr.predict(x_test),color=\"blue\")\n",
    "plt.title(\"Test set\")\n",
    "plt.xlabel(\"Human Development Index (Male)\")\n",
    "plt.ylabel(\"Estimated Gross National Income per Capita (Male)\")\n",
    "plt.show()"
   ]
  },
  {
   "cell_type": "code",
   "execution_count": null,
   "metadata": {},
   "outputs": [],
   "source": [
    "y_pred=lr.predict(x_test)"
   ]
  },
  {
   "cell_type": "code",
   "execution_count": null,
   "metadata": {},
   "outputs": [],
   "source": [
    "a=mean_absolute_error(y_test, y_pred)\n",
    "print(a)"
   ]
  },
  {
   "cell_type": "code",
   "execution_count": null,
   "metadata": {},
   "outputs": [],
   "source": [
    "b=mean_squared_error(y_test, y_pred)\n",
    "print(b)\n",
    "print(np.sqrt(b))"
   ]
  },
  {
   "cell_type": "code",
   "execution_count": null,
   "metadata": {},
   "outputs": [],
   "source": [
    "#Predicting with custom data\n",
    "yoe = np.array([.9,0.7,0.8])\n",
    "yoe = yoe.reshape(-1,1)\n",
    "yoe_salary = lr.predict(yoe)\n",
    "for salary in yoe_salary:\n",
    "    print(f\"$ {salary}\")"
   ]
  },
  {
   "cell_type": "code",
   "execution_count": null,
   "metadata": {},
   "outputs": [],
   "source": []
  }
 ],
 "metadata": {
  "kernelspec": {
   "display_name": "Python 3",
   "language": "python",
   "name": "python3"
  },
  "language_info": {
   "codemirror_mode": {
    "name": "ipython",
    "version": 3
   },
   "file_extension": ".py",
   "mimetype": "text/x-python",
   "name": "python",
   "nbconvert_exporter": "python",
   "pygments_lexer": "ipython3",
   "version": "3.7.4"
  }
 },
 "nbformat": 4,
 "nbformat_minor": 2
}
